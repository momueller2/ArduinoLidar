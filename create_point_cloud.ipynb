{
 "cells": [
  {
   "cell_type": "code",
   "execution_count": null,
   "metadata": {},
   "outputs": [],
   "source": [
    "import math\n",
    "import csv\n",
    "\n",
    "points = []\n",
    "\n",
    "with open(\"./_.log\") as f:\n",
    "    data = f.read().split(\"\\n\")\n",
    "    for measurement_str in data:\n",
    "        print(measurement_str)\n",
    "        [pan, tilt, dist] = measurement_str.split(\",\")\n",
    "        panAngle = float(pan)\n",
    "        tiltAngle = float(tilt)\n",
    "        x = float(dist) * math.sin(math.radians(tiltAngle)) * math.cos(math.radians(panAngle))\n",
    "        y = float(dist) * math.sin(math.radians(tiltAngle)) * math.sin(math.radians(panAngle))\n",
    "        z = -(float(dist) * math.cos(math.radians(tiltAngle)))\n",
    "        points.append([x, y, z, int(dist)])\n",
    "\n",
    "csv_fields = ['x','y','z', 'distance']\n",
    "\n",
    "with open(\"./_.csv\", \"w\") as f:\n",
    "    write = csv.writer(f)\n",
    "\n",
    "    write.writerow(csv_fields)\n",
    "    write.writerows(points)"
   ]
  }
 ],
 "metadata": {
  "kernelspec": {
   "display_name": "Python 3",
   "language": "python",
   "name": "python3"
  },
  "language_info": {
   "codemirror_mode": {
    "name": "ipython",
    "version": 3
   },
   "file_extension": ".py",
   "mimetype": "text/x-python",
   "name": "python",
   "nbconvert_exporter": "python",
   "pygments_lexer": "ipython3",
   "version": "3.12.2"
  }
 },
 "nbformat": 4,
 "nbformat_minor": 2
}
